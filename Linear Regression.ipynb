{
 "cells": [
  {
   "cell_type": "code",
   "execution_count": null,
   "id": "8d56ec7f-16c9-4b02-95ed-a85cb751046c",
   "metadata": {},
   "outputs": [],
   "source": [
    "# pip section\n",
    "\n",
    "!pip install pandas --quiet"
   ]
  },
  {
   "cell_type": "code",
   "execution_count": null,
   "id": "87bef3dd-0b5f-4ecc-bed1-1fe870a6f0b6",
   "metadata": {},
   "outputs": [],
   "source": [
    "!pip install plotly matplotlib seaborn --quiet"
   ]
  },
  {
   "cell_type": "code",
   "execution_count": null,
   "id": "3a9c57c7-ada3-43fd-bc8c-dbe070efa16c",
   "metadata": {},
   "outputs": [],
   "source": [
    "!pip install scikit-learn --quiet"
   ]
  },
  {
   "cell_type": "markdown",
   "id": "100f0429-0784-45e1-94b8-a4c0a61be7af",
   "metadata": {},
   "source": [
    "# LINEAR REGRESSION AND STOCHASTIC GRADIENT DESCENT"
   ]
  },
  {
   "cell_type": "code",
   "execution_count": null,
   "id": "9253b4ce-abaa-4595-8e35-aad1afba7ecb",
   "metadata": {},
   "outputs": [],
   "source": [
    "# imports\n",
    "\n",
    "from urllib.request import urlretrieve\n",
    "import pandas as pd\n",
    "import numpy as np"
   ]
  },
  {
   "cell_type": "code",
   "execution_count": null,
   "id": "749e4d1c-d8bd-48b5-be95-5a25b45e584f",
   "metadata": {},
   "outputs": [],
   "source": [
    "import plotly.express as px\n",
    "import matplotlib\n",
    "import matplotlib.pyplot as plt\n",
    "import seaborn as sns\n",
    "%matplotlib inline"
   ]
  },
  {
   "cell_type": "code",
   "execution_count": null,
   "id": "68f94f19-1002-4612-bd0d-4bb521aa9301",
   "metadata": {},
   "outputs": [],
   "source": [
    "medical_charges_url = 'https://raw.githubusercontent.com/JovianML/opendatasets/master/data/medical-charges.csv'\n",
    "urlretrieve(medical_charges_url, 'medical.csv')"
   ]
  },
  {
   "cell_type": "code",
   "execution_count": null,
   "id": "171be129-503c-4b4c-8f2a-aebf1d35f1c7",
   "metadata": {},
   "outputs": [],
   "source": [
    "medical_df = pd.read_csv('medical.csv')"
   ]
  },
  {
   "cell_type": "code",
   "execution_count": null,
   "id": "bf328418-98fc-46f6-b7f5-e65fab60ad8a",
   "metadata": {},
   "outputs": [],
   "source": [
    "# Analysis\n",
    "\n",
    "medical_df.info()\n",
    "medical_df.describe()"
   ]
  },
  {
   "cell_type": "code",
   "execution_count": null,
   "id": "298c2939-406b-49c2-bcec-5eef139b5ddf",
   "metadata": {},
   "outputs": [],
   "source": [
    "sns.set_style('darkgrid')\n",
    "matplotlib.rcParams['font.size'] = 14\n",
    "matplotlib.rcParams['figure.figsize'] = (10, 6)\n",
    "matplotlib.rcParams['figure.facecolor'] = '#00000000'"
   ]
  },
  {
   "cell_type": "code",
   "execution_count": null,
   "id": "c766ac69-da39-4a8f-8720-c773b418244a",
   "metadata": {},
   "outputs": [],
   "source": [
    "fig = px.histogram(medical_df, \n",
    "                   x='age', \n",
    "                   marginal='box', \n",
    "                   nbins=47, \n",
    "                   title='Distribution of Age')\n",
    "fig.update_layout(bargap=0.1)\n",
    "fig.show()"
   ]
  },
  {
   "cell_type": "code",
   "execution_count": null,
   "id": "46d1e66c-fa11-4462-8ff6-1d4390afd056",
   "metadata": {},
   "outputs": [],
   "source": [
    "fig = px.histogram(medical_df, \n",
    "                   x='bmi', \n",
    "                   marginal='box', \n",
    "                   color_discrete_sequence=['red'], \n",
    "                   title='Distribution of BMI (Body Mass Index)')\n",
    "fig.update_layout(bargap=0.1)\n",
    "fig.show()"
   ]
  },
  {
   "cell_type": "code",
   "execution_count": null,
   "id": "8a7fcb21-11ee-4422-8bd0-8e5766b034d6",
   "metadata": {},
   "outputs": [],
   "source": [
    "fig = px.histogram(medical_df, \n",
    "                   x='charges', \n",
    "                   marginal='box', \n",
    "                   color='smoker', \n",
    "                   color_discrete_sequence=['green', 'grey'], \n",
    "                   title='Annual Medical Charges')\n",
    "fig.update_layout(bargap=0.1)\n",
    "fig.show()"
   ]
  },
  {
   "cell_type": "code",
   "execution_count": null,
   "id": "cc8874f5-801b-4c80-8374-eb562f7d6ca5",
   "metadata": {},
   "outputs": [],
   "source": [
    "charges_sex_fig = px.histogram(medical_df, \n",
    "                   x='charges', \n",
    "                   marginal='box', \n",
    "                   color='sex', \n",
    "                   color_discrete_sequence=['blue', 'pink'], \n",
    "                   title='Charges wrt Sex')\n",
    "charges_sex_fig.update_layout(bargap=0.1)\n",
    "charges_sex_fig.show()"
   ]
  },
  {
   "cell_type": "code",
   "execution_count": null,
   "id": "ebf8555a-5975-4fd5-b629-6ec7c2bf7c5e",
   "metadata": {},
   "outputs": [],
   "source": [
    "charges_reg_fig = px.histogram(medical_df, \n",
    "                   x='charges', \n",
    "                   marginal='box', \n",
    "                   color='region', \n",
    "                   # color_discrete_sequence=['blue', 'pink'], \n",
    "                   title='Charges wrt Region')\n",
    "charges_reg_fig.update_layout(bargap=0.1)\n",
    "charges_reg_fig.show()"
   ]
  },
  {
   "cell_type": "code",
   "execution_count": null,
   "id": "1028cedf-b374-4666-a833-a398e3298cea",
   "metadata": {},
   "outputs": [],
   "source": [
    "medical_df.smoker.value_counts()"
   ]
  },
  {
   "cell_type": "code",
   "execution_count": null,
   "id": "2f43e76b-9dcf-4017-ac11-4b1a623d3434",
   "metadata": {},
   "outputs": [],
   "source": [
    "px.histogram(\n",
    "    medical_df,\n",
    "    x = 'smoker',\n",
    "    color = 'sex',\n",
    "    title = 'Smoker'\n",
    ")"
   ]
  },
  {
   "cell_type": "code",
   "execution_count": null,
   "id": "21b118e4-41d2-4471-8adb-32652f3c8c4f",
   "metadata": {},
   "outputs": [],
   "source": [
    "medical_df.info()"
   ]
  },
  {
   "cell_type": "code",
   "execution_count": null,
   "id": "cd34b628-075c-4eea-bd30-ec5b0a8cfcbd",
   "metadata": {},
   "outputs": [],
   "source": [
    "medical_df.children.value_counts()\n",
    "px.histogram(\n",
    "    medical_df,\n",
    "    x = 'charges',\n",
    "    color = 'children',\n",
    "    title = 'Charges wrt children'\n",
    ").update_layout(bargap = 0.1)"
   ]
  },
  {
   "cell_type": "code",
   "execution_count": null,
   "id": "4378558d-2193-40e5-87cb-ef50bff88eb5",
   "metadata": {},
   "outputs": [],
   "source": [
    "fig = px.scatter(medical_df, \n",
    "                 x='bmi', \n",
    "                 y='charges', \n",
    "                 color='smoker', \n",
    "                 opacity=0.8, \n",
    "                 hover_data=['sex'], \n",
    "                 title='BMI vs. Charges')\n",
    "fig.update_traces(marker_size=5)\n",
    "fig.show()"
   ]
  },
  {
   "cell_type": "code",
   "execution_count": null,
   "id": "1aeba6d9-e9a4-4f50-91e6-2876fbd6bef3",
   "metadata": {
    "editable": true,
    "slideshow": {
     "slide_type": ""
    },
    "tags": []
   },
   "outputs": [],
   "source": [
    "# Correlation\n",
    "\n",
    "medical_df.info()\n",
    "smoker_values = {\"yes\": 1, \"no\": 0}\n",
    "smoker_numeric = medical_df.smoker.map(smoker_values)\n"
   ]
  },
  {
   "cell_type": "code",
   "execution_count": null,
   "id": "315e7a8f-d0ee-4c4c-ba5d-3f439d3478db",
   "metadata": {},
   "outputs": [],
   "source": [
    "medical_df.charges.corr(medical_df.age)"
   ]
  },
  {
   "cell_type": "code",
   "execution_count": null,
   "id": "245c05c1-707e-48b2-8019-603cabfb6519",
   "metadata": {},
   "outputs": [],
   "source": [
    "non_smoker_df = medical_df[medical_df.smoker == \"no\"]\n",
    "non_smoker_df\n",
    "\n",
    "plt.title(\"Charges vs. Non smokers age\")\n",
    "sns.scatterplot(data = non_smoker_df, x = 'age', y = 'charges', alpha = 0.7, s = 15)"
   ]
  },
  {
   "cell_type": "code",
   "execution_count": null,
   "id": "adaa8c6f-fb89-4649-9406-4db34c55f30e",
   "metadata": {},
   "outputs": [],
   "source": [
    "def estimate_charges(age, w, b):\n",
    "    return w * age + b"
   ]
  },
  {
   "cell_type": "code",
   "execution_count": null,
   "id": "413195e2-6317-48e3-9438-20f47339a6d3",
   "metadata": {},
   "outputs": [],
   "source": [
    "ages = non_smoker_df.age\n",
    "estimated_charges = estimate_charges(ages, w = 50, b = 100)\n",
    "\n",
    "plt.plot(ages, estimated_charges, 'r-o')\n",
    "plt.xlabel(\"Age\")\n",
    "plt.ylabel(\"Charges\")"
   ]
  },
  {
   "cell_type": "code",
   "execution_count": null,
   "id": "ba918273-ff67-4627-a11c-fd1a31c3f74c",
   "metadata": {},
   "outputs": [],
   "source": [
    "target = non_smoker_df.charges\n",
    "\n",
    "# plt.plot(ages, estimated_charges, 'r', alpha=0.9)\n",
    "# plt.scatter(ages, target, s=8,alpha=0.8)\n",
    "# plt.xlabel('Age')\n",
    "# plt.ylabel('Charges')\n",
    "# plt.legend(['Estimate', 'Actual'])"
   ]
  },
  {
   "cell_type": "code",
   "execution_count": null,
   "id": "4d40ece5-7d61-4a76-be36-513c553c30bd",
   "metadata": {},
   "outputs": [],
   "source": [
    "def try_params(w, b):\n",
    "    ages = non_smoker_df.age\n",
    "    charges = non_smoker_df.charges\n",
    "\n",
    "    est_charges = estimate_charges(ages, w, b)\n",
    "\n",
    "    plt.plot(ages, est_charges, 'r', alpha=0.9)\n",
    "    plt.scatter(ages, target, s=8,alpha=0.8)\n",
    "    plt.xlabel('Age')\n",
    "    plt.ylabel('Charges')\n",
    "    plt.legend(['Estimate', 'Actual'])\n",
    "\n",
    "try_params(400, 5000)"
   ]
  },
  {
   "cell_type": "code",
   "execution_count": null,
   "id": "9e3a4f83-d59b-42b2-a0f1-902b53eaeea8",
   "metadata": {},
   "outputs": [],
   "source": [
    "def rmse(targets, predictions):\n",
    "    return np.sqrt(np.mean(np.square(predictions - targets)))\n",
    "\n",
    "def try_params(w, b):\n",
    "    ages = non_smoker_df.age\n",
    "    charges = non_smoker_df.charges\n",
    "\n",
    "    est_charges = estimate_charges(ages, w, b)\n",
    "\n",
    "    plt.plot(ages, est_charges, 'r', alpha=0.9)\n",
    "    plt.scatter(ages, target, s=8,alpha=0.8)\n",
    "    plt.xlabel('Age')\n",
    "    plt.ylabel('Charges')\n",
    "    plt.legend(['Estimate', 'Actual'])\n",
    "\n",
    "    loss = rmse(charges, est_charges)\n",
    "    print(f\"Root mean squared error is {loss}\")"
   ]
  },
  {
   "cell_type": "code",
   "execution_count": null,
   "id": "dc82a545-6204-4d37-9674-a583856c0b08",
   "metadata": {},
   "outputs": [],
   "source": [
    "def rmse(targets, predictions):\n",
    "    return np.sqrt(np.mean(np.square(predictions - targets)))\n",
    "\n",
    "def try_params(w, b):\n",
    "    ages = non_smoker_df.age\n",
    "    charges = non_smoker_df.charges\n",
    "\n",
    "    est_charges = estimate_charges(ages, w, b)\n",
    "\n",
    "    plt.plot(ages, est_charges, 'r', alpha=0.9)\n",
    "    plt.scatter(ages, target, s=8,alpha=0.8)\n",
    "    plt.xlabel('Age')\n",
    "    plt.ylabel('Charges')\n",
    "    plt.legend(['Estimate', 'Actual'])\n",
    "\n",
    "    loss = rmse(charges, est_charges)\n",
    "    print(f\"Root mean squared error is {loss}\")"
   ]
  },
  {
   "cell_type": "code",
   "execution_count": null,
   "id": "a329dccd-884f-4daf-989d-336ca3660531",
   "metadata": {},
   "outputs": [],
   "source": [
    "try_params(300, 1)"
   ]
  },
  {
   "cell_type": "markdown",
   "id": "9976876d-0772-4979-ad74-cd0d785dff84",
   "metadata": {},
   "source": [
    "## Scikit Learn "
   ]
  },
  {
   "cell_type": "markdown",
   "id": "c4a346dd-cf06-4ec8-baa6-de6720cd0f7c",
   "metadata": {},
   "source": [
    "### Linear Regression"
   ]
  },
  {
   "cell_type": "code",
   "execution_count": null,
   "id": "8583db9e-e0f6-4751-9a85-4aef653b7911",
   "metadata": {},
   "outputs": [],
   "source": [
    "from sklearn.linear_model import LinearRegression"
   ]
  },
  {
   "cell_type": "code",
   "execution_count": null,
   "id": "145d85c8-0d83-4661-9a72-b6d6b89795d1",
   "metadata": {},
   "outputs": [],
   "source": [
    "model = LinearRegression()\n",
    "\n",
    "help(model.fit)"
   ]
  },
  {
   "cell_type": "code",
   "execution_count": null,
   "id": "ddc2349f-f04c-43d7-988a-7f1a21534234",
   "metadata": {},
   "outputs": [],
   "source": [
    "non_smoker_df = medical_df[medical_df.smoker == 'no']"
   ]
  },
  {
   "cell_type": "code",
   "execution_count": null,
   "id": "0ff67ac8-4f6d-4fb7-ad50-d97dee32a3f8",
   "metadata": {},
   "outputs": [],
   "source": [
    "inputs = non_smoker_df[['age']]\n",
    "targets = non_smoker_df.charges\n",
    "\n",
    "print(inputs.shape)\n",
    "print(targets.shape)"
   ]
  },
  {
   "cell_type": "code",
   "execution_count": null,
   "id": "45d02ce3-4238-41e2-ace9-fbad8530cbd1",
   "metadata": {},
   "outputs": [],
   "source": [
    "model.fit(inputs, targets)\n",
    "model.predict(np.array([\n",
    "    [23],\n",
    "    [56],\n",
    "    [19]\n",
    "]))"
   ]
  },
  {
   "cell_type": "code",
   "execution_count": null,
   "id": "43ba1b0b-92df-4a9e-84b1-b9e00a338ee5",
   "metadata": {},
   "outputs": [],
   "source": [
    "predictions = model.predict(inputs)\n",
    "\n",
    "rmse(targets, predictions)"
   ]
  },
  {
   "cell_type": "code",
   "execution_count": null,
   "id": "d40c412f-14f1-495c-85a5-8423182a6478",
   "metadata": {},
   "outputs": [],
   "source": [
    "plt.plot(inputs, targets, 'o')"
   ]
  },
  {
   "cell_type": "code",
   "execution_count": null,
   "id": "dd38ddb7-e2d9-4388-9e51-c67cca97706c",
   "metadata": {},
   "outputs": [],
   "source": [
    "plt.plot(inputs, predictions, 'o')"
   ]
  },
  {
   "cell_type": "code",
   "execution_count": null,
   "id": "087b79c9-61f5-49e6-9b68-b2d27b267978",
   "metadata": {},
   "outputs": [],
   "source": [
    "model.coef_, model.intercept_"
   ]
  },
  {
   "cell_type": "code",
   "execution_count": null,
   "id": "163ab601-6a03-46b4-9c90-5c5e49099867",
   "metadata": {},
   "outputs": [],
   "source": [
    "try_params(model.coef_, model.intercept_)"
   ]
  },
  {
   "cell_type": "markdown",
   "id": "3c7294ba-6f30-46d9-85c9-32a14e9d44db",
   "metadata": {},
   "source": [
    "### SGD"
   ]
  },
  {
   "cell_type": "code",
   "execution_count": null,
   "id": "2694c353-37eb-4114-93b8-450595800bbc",
   "metadata": {},
   "outputs": [],
   "source": [
    "from sklearn.linear_model import SGDRegressor"
   ]
  },
  {
   "cell_type": "code",
   "execution_count": null,
   "id": "a4a4f86c-c8b5-4f19-b6e3-8d46e84835b1",
   "metadata": {},
   "outputs": [],
   "source": [
    "sgd_model = SGDRegressor()\n",
    "\n",
    "sgd_model.fit(inputs, targets)"
   ]
  },
  {
   "cell_type": "code",
   "execution_count": null,
   "id": "4c9033e5-eb2f-470b-bd95-159bc469660d",
   "metadata": {},
   "outputs": [],
   "source": [
    "sgd_model.predict(inputs)\n",
    "try_params(sgd_model.coef_, sgd_model.intercept_)"
   ]
  },
  {
   "cell_type": "markdown",
   "id": "49baa68f-6794-4c2e-97cc-606d29f89408",
   "metadata": {},
   "source": [
    "### Self"
   ]
  },
  {
   "cell_type": "code",
   "execution_count": null,
   "id": "6482f1aa-305e-4865-8b82-2b0d56c4ae6b",
   "metadata": {},
   "outputs": [],
   "source": [
    "smoker_df = medical_df[medical_df.smoker == 'yes']\n",
    "\n",
    "inputs = smoker_df[['age']]\n",
    "targets = smoker_df.charges\n",
    "\n",
    "inputs.shape, targets.shape"
   ]
  },
  {
   "cell_type": "code",
   "execution_count": null,
   "id": "74473c87-79f2-4e69-9117-387c5db00cec",
   "metadata": {},
   "outputs": [],
   "source": [
    "def rmse(targets, predictions):\n",
    "    return np.sqrt(np.mean(np.square(predictions - targets)))\n",
    "\n",
    "def visualise_predictions(inputs, targets, predictions):\n",
    "    print(f\"RMSE: {rmse(targets, predictions)}\")\n",
    "    plt.plot(inputs, predictions, 'r', alpha=0.9)\n",
    "    plt.scatter(inputs, targets, s=8,alpha=0.8)\n",
    "    plt.xlabel('Age')\n",
    "    plt.ylabel('Charges')\n",
    "    plt.legend(['Estimate', 'Actual'])"
   ]
  },
  {
   "cell_type": "code",
   "execution_count": null,
   "id": "24760868-bb5d-4c83-a63a-fdf4a4f7c97f",
   "metadata": {},
   "outputs": [],
   "source": [
    "# Training using LR\n",
    "\n",
    "model.fit(inputs, targets)\n",
    "\n",
    "predictions = model.predict(inputs)"
   ]
  },
  {
   "cell_type": "code",
   "execution_count": null,
   "id": "b7843ec5-e2da-4d7a-a9f1-6fe3e702b419",
   "metadata": {},
   "outputs": [],
   "source": [
    "visualise_predictions(inputs, targets, predictions)"
   ]
  },
  {
   "cell_type": "code",
   "execution_count": null,
   "id": "ea6a6c0b-3414-4ea7-8cc2-df24fec5c258",
   "metadata": {},
   "outputs": [],
   "source": [
    "inputs, targets"
   ]
  },
  {
   "cell_type": "code",
   "execution_count": null,
   "id": "10926b5e-7caa-438b-a3dd-fb4c70b5f39c",
   "metadata": {},
   "outputs": [],
   "source": [
    "# Training SGD\n",
    "\n",
    "sgd_model = SGDRegressor()\n",
    "\n",
    "sgd_model.fit(inputs, targets)\n",
    "predictions = sgd_model.predict(inputs)\n",
    "print(sgd_model.coef_, sgd_model.intercept_)\n",
    "\n",
    "visualise_predictions(inputs, targets, predictions)"
   ]
  },
  {
   "cell_type": "markdown",
   "id": "8b14c364-4c32-44ab-b1db-d99ef0cde826",
   "metadata": {},
   "source": [
    "**ML Training**: Process of finding the most apt params so as to model a relnship b/w the inputs and targets\n",
    "\n",
    "3 components:\n",
    "- Model\n",
    "- Loss function\n",
    "- Optimizer"
   ]
  },
  {
   "cell_type": "markdown",
   "id": "14e2c45c-61e9-4f74-ac81-f87b237af0ee",
   "metadata": {},
   "source": [
    "### More params"
   ]
  },
  {
   "cell_type": "code",
   "execution_count": null,
   "id": "78507b67-bad5-42b9-8df0-b3b1e93ec336",
   "metadata": {},
   "outputs": [],
   "source": [
    "inputs, targets = non_smoker_df[['age', 'bmi']], non_smoker_df.charges\n",
    "\n",
    "inputs.shape, targets.shape"
   ]
  },
  {
   "cell_type": "code",
   "execution_count": null,
   "id": "d13d53a6-5ecd-4ca7-b321-cb8dd72c7d2d",
   "metadata": {},
   "outputs": [],
   "source": [
    "lr_model = LinearRegression()\n",
    "\n",
    "lr_model.fit(inputs, targets)\n",
    "\n",
    "predictions = lr_model.predict(inputs)\n",
    "\n",
    "rmse(targets, predictions)"
   ]
  },
  {
   "cell_type": "code",
   "execution_count": null,
   "id": "e5ab6baa-d9f1-4cd4-bd9e-8eff82293461",
   "metadata": {},
   "outputs": [],
   "source": [
    "# For 3D Scatter\n",
    "\n",
    "# fig = px.scatter_3d(non_smoker_df, x='age', y='bmi', z='charges')\n",
    "# fig.update_traces(marker_size=3, marker_opacity=0.5)\n",
    "# fig.show()"
   ]
  },
  {
   "cell_type": "markdown",
   "id": "af58ee82-7583-42d3-9d34-390e30f62a44",
   "metadata": {},
   "source": [
    "- You can't find a relationship that doesn't exist, no matter what machine learning technique or optimization algorithm you apply"
   ]
  },
  {
   "cell_type": "code",
   "execution_count": null,
   "id": "33c55e3a-9ef0-434a-a796-5c5211876ffa",
   "metadata": {},
   "outputs": [],
   "source": [
    "inputs = non_smoker_df[['bmi']]\n",
    "targets = non_smoker_df.charges\n",
    "\n",
    "lr_model = LinearRegression().fit(inputs, targets)\n",
    "\n",
    "predictions = lr_model.predict(inputs)\n",
    "\n",
    "visualise_predictions(inputs, targets, predictions)"
   ]
  },
  {
   "cell_type": "code",
   "execution_count": null,
   "id": "692eec8a-4af6-4156-818d-6678b9d8ea49",
   "metadata": {},
   "outputs": [],
   "source": [
    "fig = px.strip(non_smoker_df, x='children', y='charges', title= \"Children vs. Charges\")\n",
    "fig.update_traces(marker_size=4, marker_opacity=0.7)\n",
    "fig.show()"
   ]
  },
  {
   "cell_type": "code",
   "execution_count": null,
   "id": "4d0f3cf4-7241-4c99-b831-2100e1980cf2",
   "metadata": {},
   "outputs": [],
   "source": [
    "non_smoker_df.charges.corr(non_smoker_df.children)"
   ]
  },
  {
   "cell_type": "markdown",
   "id": "cf2886d8-e7b6-496e-b162-2b1621a55c49",
   "metadata": {},
   "source": [
    "### Categorical Features"
   ]
  },
  {
   "cell_type": "code",
   "execution_count": null,
   "id": "91252cf6-af26-4a86-b501-3cda2f7999ba",
   "metadata": {},
   "outputs": [],
   "source": [
    "smoker_codes = {'yes': 1, 'no': 0}\n",
    "sex_codes = {\"male\": 0, \"female\": 1}\n",
    "\n",
    "medical_df['smoker_code'] = medical_df.smoker.map(smoker_codes)\n",
    "medical_df['sex_code'] = medical_df.sex.map(sex_codes)\n",
    "# medical_df.charges.corr(medical_df.smoker_code)"
   ]
  },
  {
   "cell_type": "code",
   "execution_count": null,
   "id": "3319d8e4-15a9-49e8-9655-1a7862c3dcea",
   "metadata": {},
   "outputs": [],
   "source": [
    "from sklearn import preprocessing\n",
    "\n",
    "encoder = preprocessing.OneHotEncoder()\n",
    "encoder.fit(medical_df[['region']])\n",
    "encoder.categories_"
   ]
  },
  {
   "cell_type": "code",
   "execution_count": null,
   "id": "30dd9671-41ad-429c-a70d-440e33f64bd2",
   "metadata": {},
   "outputs": [],
   "source": [
    "region_codes = encoder.transform(medical_df[['region']]).toarray()\n",
    "medical_df[['northeast', 'northwest', 'southeast', 'southwest']] = region_codes"
   ]
  },
  {
   "cell_type": "code",
   "execution_count": null,
   "id": "db67a178-5688-4e36-96ea-b3019d812e6d",
   "metadata": {},
   "outputs": [],
   "source": [
    "medical_df"
   ]
  },
  {
   "cell_type": "code",
   "execution_count": null,
   "id": "7a8865bb-1e10-42d2-a46e-fdf194c8e0b4",
   "metadata": {},
   "outputs": [],
   "source": [
    "from sklearn.linear_model import LinearRegression"
   ]
  },
  {
   "cell_type": "code",
   "execution_count": null,
   "id": "7ad9b11a-1123-4b4d-a8fe-7bca6fe1c117",
   "metadata": {},
   "outputs": [],
   "source": [
    "lr_model = LinearRegression()\n",
    "\n",
    "input_cols = ['age', 'sex_code', 'bmi', 'children', 'smoker_code', 'northeast', 'northwest', 'southeast', 'southwest']\n",
    "inputs = medical_df[input_cols]\n",
    "targets = medical_df[['charges']]\n",
    "\n",
    "lr_model.fit(inputs, targets)\n",
    "\n",
    "lr_model.coef_"
   ]
  },
  {
   "cell_type": "code",
   "execution_count": null,
   "id": "d6eb7d8b-f03d-4395-9342-838bd38249bc",
   "metadata": {},
   "outputs": [],
   "source": [
    "weights_df = pd.DataFrame({\n",
    "    'fields': np.append(input_cols, 1),\n",
    "    'weights': np.append(lr_model.coef_, lr_model.intercept_)\n",
    "})\n",
    "\n",
    "weights_df"
   ]
  },
  {
   "cell_type": "code",
   "execution_count": null,
   "id": "c9620924-9f19-4af1-963b-2ceaf97f3074",
   "metadata": {},
   "outputs": [],
   "source": [
    "scaler = preprocessing.StandardScaler()\n",
    "\n",
    "numeric_cols = ['age', 'bmi', 'children']\n",
    "scaler.fit(medical_df[numeric_cols])\n",
    "\n",
    "scaled_data = scaler.transform(medical_df[numeric_cols])\n",
    "scaled_data\n"
   ]
  },
  {
   "cell_type": "code",
   "execution_count": null,
   "id": "8a0a9e1a-2d36-4adb-8f50-0e55a36d9a68",
   "metadata": {},
   "outputs": [],
   "source": [
    "medical_df.info()"
   ]
  },
  {
   "cell_type": "code",
   "execution_count": null,
   "id": "088c3108-433f-4ce2-9b60-e8430c9d8287",
   "metadata": {},
   "outputs": [],
   "source": [
    "cat_cols = ['smoker_code', 'sex_code', 'northeast', 'northwest', 'southeast', 'southwest']\n",
    "cat_data = medical_df[cat_cols]"
   ]
  },
  {
   "cell_type": "code",
   "execution_count": null,
   "id": "1a1e16d2-4643-4c82-814c-c0c420b32a1c",
   "metadata": {},
   "outputs": [],
   "source": [
    "# After processsing, that is, scaling and categorising inputs, we have\n",
    "\n",
    "inputs = np.concatenate((scaled_data, cat_data), axis = 1)\n",
    "targets = medical_df['charges']\n",
    "\n",
    "lr_model.fit(inputs, targets)"
   ]
  },
  {
   "cell_type": "code",
   "execution_count": null,
   "id": "2d7283be-106b-43ef-abb4-81ce97365bae",
   "metadata": {},
   "outputs": [],
   "source": [
    "weight_analysis_df = pd.DataFrame({\n",
    "    'field': np.append(numeric_cols + cat_cols, 1),\n",
    "    'weight': np.append(lr_model.coef_, lr_model.intercept_)\n",
    "})\n",
    "\n",
    "weight_analysis_df"
   ]
  },
  {
   "cell_type": "markdown",
   "id": "a587f6a9-b01d-422b-a32a-11b60e328d8f",
   "metadata": {},
   "source": [
    "The most important factors thus are smoker, age, bmi"
   ]
  },
  {
   "cell_type": "markdown",
   "id": "c5160320-0f60-468e-88d4-d3d29a1381bc",
   "metadata": {
    "jp-MarkdownHeadingCollapsed": true
   },
   "source": [
    "### Test Set"
   ]
  },
  {
   "cell_type": "code",
   "execution_count": null,
   "id": "460e90dc-8d0b-4ffb-9e11-db89ff32a332",
   "metadata": {},
   "outputs": [],
   "source": [
    "from sklearn.model_selection import train_test_split"
   ]
  },
  {
   "cell_type": "code",
   "execution_count": null,
   "id": "4ccabc89-f846-4dc6-ac9d-0f1a4a4df77b",
   "metadata": {},
   "outputs": [],
   "source": [
    "medical_df = pd.read_csv(\"medical.csv\")\n",
    "\n",
    "inputs_train, inputs_test, targets_train, targets_test = train_test_split(inputs, targets, test_size=0.1)\n",
    "\n",
    "targets_test"
   ]
  },
  {
   "cell_type": "markdown",
   "id": "8ad243b2-2467-468a-ab7c-ab7fce4f56e6",
   "metadata": {},
   "source": [
    "### Ocean Data"
   ]
  },
  {
   "cell_type": "code",
   "execution_count": 1,
   "id": "ceec1c2c-35cc-4b6d-b7ad-ffd11598b64a",
   "metadata": {},
   "outputs": [],
   "source": [
    "from urllib.request import urlretrieve\n",
    "import pandas as pd\n",
    "import numpy as np\n",
    "import plotly.express as px\n",
    "import matplotlib\n",
    "import matplotlib.pyplot as plt\n",
    "import seaborn as sns\n",
    "%matplotlib inline"
   ]
  },
  {
   "cell_type": "code",
   "execution_count": 5,
   "id": "d0bd6f27-7316-4908-a230-5ea7540f35de",
   "metadata": {},
   "outputs": [],
   "source": [
    "from sklearn.linear_model import LinearRegression\n",
    "from sklearn import preprocessing\n",
    "from sklearn.model_selection import train_test_split\n",
    "from sklearn.impute import SimpleImputer"
   ]
  },
  {
   "cell_type": "code",
   "execution_count": null,
   "id": "86a7545c-6e9d-4a52-8d73-1285869054c3",
   "metadata": {},
   "outputs": [],
   "source": [
    "ocean_df  = pd.read_csv(r'./datasets/bottle.csv')\n",
    "ocean_df"
   ]
  },
  {
   "cell_type": "code",
   "execution_count": 8,
   "id": "71cbe250-eb1a-4d2b-b734-c8b2e3722b9c",
   "metadata": {},
   "outputs": [
    {
     "data": {
      "text/html": [
       "<div>\n",
       "<style scoped>\n",
       "    .dataframe tbody tr th:only-of-type {\n",
       "        vertical-align: middle;\n",
       "    }\n",
       "\n",
       "    .dataframe tbody tr th {\n",
       "        vertical-align: top;\n",
       "    }\n",
       "\n",
       "    .dataframe thead th {\n",
       "        text-align: right;\n",
       "    }\n",
       "</style>\n",
       "<table border=\"1\" class=\"dataframe\">\n",
       "  <thead>\n",
       "    <tr style=\"text-align: right;\">\n",
       "      <th></th>\n",
       "      <th>Cst_Cnt</th>\n",
       "      <th>Btl_Cnt</th>\n",
       "      <th>Depthm</th>\n",
       "      <th>T_degC</th>\n",
       "      <th>Salnty</th>\n",
       "      <th>O2ml_L</th>\n",
       "      <th>STheta</th>\n",
       "      <th>O2Sat</th>\n",
       "      <th>Oxy_µmol/Kg</th>\n",
       "      <th>BtlNum</th>\n",
       "      <th>...</th>\n",
       "      <th>R_CHLA</th>\n",
       "      <th>R_PHAEO</th>\n",
       "      <th>R_PRES</th>\n",
       "      <th>R_SAMP</th>\n",
       "      <th>DIC1</th>\n",
       "      <th>DIC2</th>\n",
       "      <th>TA1</th>\n",
       "      <th>TA2</th>\n",
       "      <th>pH2</th>\n",
       "      <th>pH1</th>\n",
       "    </tr>\n",
       "  </thead>\n",
       "  <tbody>\n",
       "    <tr>\n",
       "      <th>count</th>\n",
       "      <td>864863.000000</td>\n",
       "      <td>864863.000000</td>\n",
       "      <td>864863.000000</td>\n",
       "      <td>853900.000000</td>\n",
       "      <td>817509.000000</td>\n",
       "      <td>696201.000000</td>\n",
       "      <td>812174.000000</td>\n",
       "      <td>661274.000000</td>\n",
       "      <td>661268.000000</td>\n",
       "      <td>118667.000000</td>\n",
       "      <td>...</td>\n",
       "      <td>225276.000000</td>\n",
       "      <td>225275.000000</td>\n",
       "      <td>864863.000000</td>\n",
       "      <td>122006.000000</td>\n",
       "      <td>1999.000000</td>\n",
       "      <td>224.000000</td>\n",
       "      <td>2084.000000</td>\n",
       "      <td>234.000000</td>\n",
       "      <td>10.000000</td>\n",
       "      <td>84.000000</td>\n",
       "    </tr>\n",
       "    <tr>\n",
       "      <th>mean</th>\n",
       "      <td>17138.790958</td>\n",
       "      <td>432432.000000</td>\n",
       "      <td>226.831951</td>\n",
       "      <td>10.799677</td>\n",
       "      <td>33.840350</td>\n",
       "      <td>3.392468</td>\n",
       "      <td>25.819394</td>\n",
       "      <td>57.103779</td>\n",
       "      <td>148.808694</td>\n",
       "      <td>10.497426</td>\n",
       "      <td>...</td>\n",
       "      <td>0.450225</td>\n",
       "      <td>0.198599</td>\n",
       "      <td>228.395694</td>\n",
       "      <td>162.071521</td>\n",
       "      <td>2153.239714</td>\n",
       "      <td>2168.148330</td>\n",
       "      <td>2256.055845</td>\n",
       "      <td>2278.858803</td>\n",
       "      <td>7.948570</td>\n",
       "      <td>7.910983</td>\n",
       "    </tr>\n",
       "    <tr>\n",
       "      <th>std</th>\n",
       "      <td>10240.949817</td>\n",
       "      <td>249664.587269</td>\n",
       "      <td>316.050259</td>\n",
       "      <td>4.243825</td>\n",
       "      <td>0.461843</td>\n",
       "      <td>2.073256</td>\n",
       "      <td>1.167787</td>\n",
       "      <td>37.094137</td>\n",
       "      <td>90.187533</td>\n",
       "      <td>6.189688</td>\n",
       "      <td>...</td>\n",
       "      <td>1.208566</td>\n",
       "      <td>0.376539</td>\n",
       "      <td>319.456731</td>\n",
       "      <td>85.722796</td>\n",
       "      <td>112.995202</td>\n",
       "      <td>154.852332</td>\n",
       "      <td>34.844435</td>\n",
       "      <td>58.496495</td>\n",
       "      <td>0.021216</td>\n",
       "      <td>0.077666</td>\n",
       "    </tr>\n",
       "    <tr>\n",
       "      <th>min</th>\n",
       "      <td>1.000000</td>\n",
       "      <td>1.000000</td>\n",
       "      <td>0.000000</td>\n",
       "      <td>1.440000</td>\n",
       "      <td>28.431000</td>\n",
       "      <td>-0.010000</td>\n",
       "      <td>20.934000</td>\n",
       "      <td>-0.100000</td>\n",
       "      <td>-0.434900</td>\n",
       "      <td>0.000000</td>\n",
       "      <td>...</td>\n",
       "      <td>-0.010000</td>\n",
       "      <td>-3.890000</td>\n",
       "      <td>0.000000</td>\n",
       "      <td>0.000000</td>\n",
       "      <td>1948.850000</td>\n",
       "      <td>1969.440000</td>\n",
       "      <td>2181.570000</td>\n",
       "      <td>2198.150000</td>\n",
       "      <td>7.923100</td>\n",
       "      <td>7.618300</td>\n",
       "    </tr>\n",
       "    <tr>\n",
       "      <th>25%</th>\n",
       "      <td>8269.000000</td>\n",
       "      <td>216216.500000</td>\n",
       "      <td>46.000000</td>\n",
       "      <td>7.680000</td>\n",
       "      <td>33.488000</td>\n",
       "      <td>1.360000</td>\n",
       "      <td>24.965000</td>\n",
       "      <td>21.100000</td>\n",
       "      <td>60.915470</td>\n",
       "      <td>5.000000</td>\n",
       "      <td>...</td>\n",
       "      <td>0.050000</td>\n",
       "      <td>0.050000</td>\n",
       "      <td>46.000000</td>\n",
       "      <td>200.000000</td>\n",
       "      <td>2028.330000</td>\n",
       "      <td>2008.977500</td>\n",
       "      <td>2230.322500</td>\n",
       "      <td>2229.062500</td>\n",
       "      <td>7.931475</td>\n",
       "      <td>7.898675</td>\n",
       "    </tr>\n",
       "    <tr>\n",
       "      <th>50%</th>\n",
       "      <td>16848.000000</td>\n",
       "      <td>432432.000000</td>\n",
       "      <td>125.000000</td>\n",
       "      <td>10.060000</td>\n",
       "      <td>33.863000</td>\n",
       "      <td>3.440000</td>\n",
       "      <td>25.996000</td>\n",
       "      <td>54.400000</td>\n",
       "      <td>151.064150</td>\n",
       "      <td>10.000000</td>\n",
       "      <td>...</td>\n",
       "      <td>0.160000</td>\n",
       "      <td>0.110000</td>\n",
       "      <td>126.000000</td>\n",
       "      <td>206.000000</td>\n",
       "      <td>2170.640000</td>\n",
       "      <td>2265.885000</td>\n",
       "      <td>2244.325000</td>\n",
       "      <td>2247.505000</td>\n",
       "      <td>7.946650</td>\n",
       "      <td>7.928850</td>\n",
       "    </tr>\n",
       "    <tr>\n",
       "      <th>75%</th>\n",
       "      <td>26557.000000</td>\n",
       "      <td>648647.500000</td>\n",
       "      <td>300.000000</td>\n",
       "      <td>13.880000</td>\n",
       "      <td>34.196900</td>\n",
       "      <td>5.500000</td>\n",
       "      <td>26.646000</td>\n",
       "      <td>97.600000</td>\n",
       "      <td>240.379600</td>\n",
       "      <td>16.000000</td>\n",
       "      <td>...</td>\n",
       "      <td>0.390000</td>\n",
       "      <td>0.230000</td>\n",
       "      <td>302.000000</td>\n",
       "      <td>214.000000</td>\n",
       "      <td>2253.810000</td>\n",
       "      <td>2315.525000</td>\n",
       "      <td>2278.505000</td>\n",
       "      <td>2316.452500</td>\n",
       "      <td>7.963300</td>\n",
       "      <td>7.955100</td>\n",
       "    </tr>\n",
       "    <tr>\n",
       "      <th>max</th>\n",
       "      <td>34404.000000</td>\n",
       "      <td>864863.000000</td>\n",
       "      <td>5351.000000</td>\n",
       "      <td>31.140000</td>\n",
       "      <td>37.034000</td>\n",
       "      <td>11.130000</td>\n",
       "      <td>250.784000</td>\n",
       "      <td>214.100000</td>\n",
       "      <td>485.701800</td>\n",
       "      <td>25.000000</td>\n",
       "      <td>...</td>\n",
       "      <td>66.110000</td>\n",
       "      <td>65.300000</td>\n",
       "      <td>5458.000000</td>\n",
       "      <td>424.000000</td>\n",
       "      <td>2367.800000</td>\n",
       "      <td>2364.420000</td>\n",
       "      <td>2434.900000</td>\n",
       "      <td>2437.000000</td>\n",
       "      <td>7.988300</td>\n",
       "      <td>8.047700</td>\n",
       "    </tr>\n",
       "  </tbody>\n",
       "</table>\n",
       "<p>8 rows × 70 columns</p>\n",
       "</div>"
      ],
      "text/plain": [
       "             Cst_Cnt        Btl_Cnt         Depthm         T_degC  \\\n",
       "count  864863.000000  864863.000000  864863.000000  853900.000000   \n",
       "mean    17138.790958  432432.000000     226.831951      10.799677   \n",
       "std     10240.949817  249664.587269     316.050259       4.243825   \n",
       "min         1.000000       1.000000       0.000000       1.440000   \n",
       "25%      8269.000000  216216.500000      46.000000       7.680000   \n",
       "50%     16848.000000  432432.000000     125.000000      10.060000   \n",
       "75%     26557.000000  648647.500000     300.000000      13.880000   \n",
       "max     34404.000000  864863.000000    5351.000000      31.140000   \n",
       "\n",
       "              Salnty         O2ml_L         STheta          O2Sat  \\\n",
       "count  817509.000000  696201.000000  812174.000000  661274.000000   \n",
       "mean       33.840350       3.392468      25.819394      57.103779   \n",
       "std         0.461843       2.073256       1.167787      37.094137   \n",
       "min        28.431000      -0.010000      20.934000      -0.100000   \n",
       "25%        33.488000       1.360000      24.965000      21.100000   \n",
       "50%        33.863000       3.440000      25.996000      54.400000   \n",
       "75%        34.196900       5.500000      26.646000      97.600000   \n",
       "max        37.034000      11.130000     250.784000     214.100000   \n",
       "\n",
       "         Oxy_µmol/Kg         BtlNum  ...         R_CHLA        R_PHAEO  \\\n",
       "count  661268.000000  118667.000000  ...  225276.000000  225275.000000   \n",
       "mean      148.808694      10.497426  ...       0.450225       0.198599   \n",
       "std        90.187533       6.189688  ...       1.208566       0.376539   \n",
       "min        -0.434900       0.000000  ...      -0.010000      -3.890000   \n",
       "25%        60.915470       5.000000  ...       0.050000       0.050000   \n",
       "50%       151.064150      10.000000  ...       0.160000       0.110000   \n",
       "75%       240.379600      16.000000  ...       0.390000       0.230000   \n",
       "max       485.701800      25.000000  ...      66.110000      65.300000   \n",
       "\n",
       "              R_PRES         R_SAMP         DIC1         DIC2          TA1  \\\n",
       "count  864863.000000  122006.000000  1999.000000   224.000000  2084.000000   \n",
       "mean      228.395694     162.071521  2153.239714  2168.148330  2256.055845   \n",
       "std       319.456731      85.722796   112.995202   154.852332    34.844435   \n",
       "min         0.000000       0.000000  1948.850000  1969.440000  2181.570000   \n",
       "25%        46.000000     200.000000  2028.330000  2008.977500  2230.322500   \n",
       "50%       126.000000     206.000000  2170.640000  2265.885000  2244.325000   \n",
       "75%       302.000000     214.000000  2253.810000  2315.525000  2278.505000   \n",
       "max      5458.000000     424.000000  2367.800000  2364.420000  2434.900000   \n",
       "\n",
       "               TA2        pH2        pH1  \n",
       "count   234.000000  10.000000  84.000000  \n",
       "mean   2278.858803   7.948570   7.910983  \n",
       "std      58.496495   0.021216   0.077666  \n",
       "min    2198.150000   7.923100   7.618300  \n",
       "25%    2229.062500   7.931475   7.898675  \n",
       "50%    2247.505000   7.946650   7.928850  \n",
       "75%    2316.452500   7.963300   7.955100  \n",
       "max    2437.000000   7.988300   8.047700  \n",
       "\n",
       "[8 rows x 70 columns]"
      ]
     },
     "execution_count": 8,
     "metadata": {},
     "output_type": "execute_result"
    }
   ],
   "source": [
    "ocean_df.describe()"
   ]
  },
  {
   "cell_type": "code",
   "execution_count": 21,
   "id": "c95518d0-1de7-4b93-8784-a0cb61e1a3a6",
   "metadata": {},
   "outputs": [
    {
     "data": {
      "text/html": [
       "<div>\n",
       "<style scoped>\n",
       "    .dataframe tbody tr th:only-of-type {\n",
       "        vertical-align: middle;\n",
       "    }\n",
       "\n",
       "    .dataframe tbody tr th {\n",
       "        vertical-align: top;\n",
       "    }\n",
       "\n",
       "    .dataframe thead th {\n",
       "        text-align: right;\n",
       "    }\n",
       "</style>\n",
       "<table border=\"1\" class=\"dataframe\">\n",
       "  <thead>\n",
       "    <tr style=\"text-align: right;\">\n",
       "      <th></th>\n",
       "      <th>Depthm</th>\n",
       "      <th>Salnty</th>\n",
       "      <th>T_degC</th>\n",
       "    </tr>\n",
       "  </thead>\n",
       "  <tbody>\n",
       "    <tr>\n",
       "      <th>0</th>\n",
       "      <td>0</td>\n",
       "      <td>33.440</td>\n",
       "      <td>10.50</td>\n",
       "    </tr>\n",
       "    <tr>\n",
       "      <th>1</th>\n",
       "      <td>8</td>\n",
       "      <td>33.440</td>\n",
       "      <td>10.46</td>\n",
       "    </tr>\n",
       "    <tr>\n",
       "      <th>2</th>\n",
       "      <td>10</td>\n",
       "      <td>33.437</td>\n",
       "      <td>10.46</td>\n",
       "    </tr>\n",
       "    <tr>\n",
       "      <th>3</th>\n",
       "      <td>19</td>\n",
       "      <td>33.420</td>\n",
       "      <td>10.45</td>\n",
       "    </tr>\n",
       "    <tr>\n",
       "      <th>4</th>\n",
       "      <td>20</td>\n",
       "      <td>33.421</td>\n",
       "      <td>10.45</td>\n",
       "    </tr>\n",
       "  </tbody>\n",
       "</table>\n",
       "</div>"
      ],
      "text/plain": [
       "   Depthm  Salnty  T_degC\n",
       "0       0  33.440   10.50\n",
       "1       8  33.440   10.46\n",
       "2      10  33.437   10.46\n",
       "3      19  33.420   10.45\n",
       "4      20  33.421   10.45"
      ]
     },
     "execution_count": 21,
     "metadata": {},
     "output_type": "execute_result"
    }
   ],
   "source": [
    "# For temp prediction\n",
    "\n",
    "ocean_df = ocean_df[['Depthm', 'Salnty', 'T_degC']]\n",
    "ocean_df.head()"
   ]
  },
  {
   "cell_type": "code",
   "execution_count": null,
   "id": "8b3f0434-69a6-4c52-99ee-a31b3ec5edae",
   "metadata": {},
   "outputs": [],
   "source": [
    "px.histogram(\n",
    "    ocean_df,\n",
    "    x = 'T_degC',\n",
    "    title = \"Temp Analysis\"\n",
    ").update_layout(bargap = 0.1)"
   ]
  },
  {
   "cell_type": "code",
   "execution_count": null,
   "id": "882b0294-8e72-4d25-9be4-c6627dcf19d5",
   "metadata": {},
   "outputs": [],
   "source": [
    "px.histogram(\n",
    "    ocean_df,\n",
    "    x = 'T_degC',\n",
    "    color = 'Depthm',\n",
    "    title = \"Temp Analysis\"\n",
    ").update_layout(bargap = 0.1)"
   ]
  },
  {
   "cell_type": "code",
   "execution_count": 22,
   "id": "f8f6ba62-16c4-41e8-ba9f-799f1afd3d91",
   "metadata": {},
   "outputs": [
    {
     "name": "stdout",
     "output_type": "stream",
     "text": [
      "-0.6812014451784366 -0.5052659661915732\n"
     ]
    }
   ],
   "source": [
    "temp_wrt_depth = ocean_df.T_degC.corr(ocean_df.Depthm)\n",
    "temp_wrt_salinity = ocean_df.T_degC.corr(ocean_df.Salnty)\n",
    "\n",
    "print(temp_wrt_depth, temp_wrt_salinity)"
   ]
  },
  {
   "cell_type": "markdown",
   "id": "0d6168b5-8541-47e3-8410-c01af243a4cb",
   "metadata": {},
   "source": [
    "Both Depth and Salinity are **strongly inversely proportional** to the temperature"
   ]
  },
  {
   "cell_type": "markdown",
   "id": "88aa3b59-e7ee-4277-92c1-a47257345326",
   "metadata": {},
   "source": [
    "Cleaning of data to remove **NULL** values"
   ]
  },
  {
   "cell_type": "code",
   "execution_count": 24,
   "id": "011f0430-50c6-444a-a1a4-24a93a9f465c",
   "metadata": {},
   "outputs": [
    {
     "data": {
      "text/html": [
       "<div>\n",
       "<style scoped>\n",
       "    .dataframe tbody tr th:only-of-type {\n",
       "        vertical-align: middle;\n",
       "    }\n",
       "\n",
       "    .dataframe tbody tr th {\n",
       "        vertical-align: top;\n",
       "    }\n",
       "\n",
       "    .dataframe thead th {\n",
       "        text-align: right;\n",
       "    }\n",
       "</style>\n",
       "<table border=\"1\" class=\"dataframe\">\n",
       "  <thead>\n",
       "    <tr style=\"text-align: right;\">\n",
       "      <th></th>\n",
       "      <th>Depthm</th>\n",
       "      <th>Salnty</th>\n",
       "      <th>T_degC</th>\n",
       "    </tr>\n",
       "  </thead>\n",
       "  <tbody>\n",
       "    <tr>\n",
       "      <th>0</th>\n",
       "      <td>0.0</td>\n",
       "      <td>33.440</td>\n",
       "      <td>10.50</td>\n",
       "    </tr>\n",
       "    <tr>\n",
       "      <th>1</th>\n",
       "      <td>8.0</td>\n",
       "      <td>33.440</td>\n",
       "      <td>10.46</td>\n",
       "    </tr>\n",
       "    <tr>\n",
       "      <th>2</th>\n",
       "      <td>10.0</td>\n",
       "      <td>33.437</td>\n",
       "      <td>10.46</td>\n",
       "    </tr>\n",
       "    <tr>\n",
       "      <th>3</th>\n",
       "      <td>19.0</td>\n",
       "      <td>33.420</td>\n",
       "      <td>10.45</td>\n",
       "    </tr>\n",
       "    <tr>\n",
       "      <th>4</th>\n",
       "      <td>20.0</td>\n",
       "      <td>33.421</td>\n",
       "      <td>10.45</td>\n",
       "    </tr>\n",
       "  </tbody>\n",
       "</table>\n",
       "</div>"
      ],
      "text/plain": [
       "   Depthm  Salnty  T_degC\n",
       "0     0.0  33.440   10.50\n",
       "1     8.0  33.440   10.46\n",
       "2    10.0  33.437   10.46\n",
       "3    19.0  33.420   10.45\n",
       "4    20.0  33.421   10.45"
      ]
     },
     "execution_count": 24,
     "metadata": {},
     "output_type": "execute_result"
    }
   ],
   "source": [
    "imputer = SimpleImputer()\n",
    "\n",
    "imputed_arr = imputer.fit_transform(ocean_df)\n",
    "\n",
    "ocean_df = pd.DataFrame(imputed_arr, columns = ocean_df.columns)\n",
    "ocean_df.head()"
   ]
  },
  {
   "cell_type": "code",
   "execution_count": null,
   "id": "5382b73d-8d03-48dd-b36e-27f8fac1ec92",
   "metadata": {},
   "outputs": [],
   "source": [
    "# For checking if the null values are removed\n",
    "\n",
    "# test_df = pd.DataFrame(ocean_df, columns = ['Depthm', 'Salnty', 'T_degC'])\n",
    "# test_df[['T_degC']].isnull().sum()"
   ]
  },
  {
   "cell_type": "code",
   "execution_count": 25,
   "id": "a34db13a-8cc4-4ca8-8509-dba41a6a5b08",
   "metadata": {},
   "outputs": [],
   "source": [
    "scaler = preprocessing.StandardScaler()\n",
    "\n",
    "numeric_cols = ['Depthm', 'Salnty']\n",
    "scaler.fit(ocean_df[numeric_cols])\n",
    "\n",
    "scaled_data = scaler.transform(ocean_df[numeric_cols])\n",
    "inputs = scaled_data\n",
    "targets = ocean_df[['T_degC']]"
   ]
  },
  {
   "cell_type": "code",
   "execution_count": 26,
   "id": "b4f2d119-5888-4471-a8f9-b5aea30b7164",
   "metadata": {},
   "outputs": [
    {
     "data": {
      "text/plain": [
       "((691890, 2), (172973, 2))"
      ]
     },
     "execution_count": 26,
     "metadata": {},
     "output_type": "execute_result"
    }
   ],
   "source": [
    "inputs_train, inputs_test, targets_train, targets_test = train_test_split(inputs, targets, test_size = 0.2)\n",
    "\n",
    "inputs_train.shape, inputs_test.shape"
   ]
  },
  {
   "cell_type": "code",
   "execution_count": 28,
   "id": "9c575152-a45f-4b15-bc5b-143004596729",
   "metadata": {},
   "outputs": [],
   "source": [
    "def rmse(targets, predictions):\n",
    "    return np.sqrt(np.mean(np.square(predictions - targets)))"
   ]
  },
  {
   "cell_type": "code",
   "execution_count": 37,
   "id": "76ba843b-cd7e-4d20-b267-a5d1efb73e59",
   "metadata": {},
   "outputs": [
    {
     "name": "stdout",
     "output_type": "stream",
     "text": [
      "(691890, 1) (691890, 2)\n"
     ]
    }
   ],
   "source": [
    "lr_model = LinearRegression()\n",
    "\n",
    "lr_model.fit(inputs_train, targets_train)\n",
    "# lr_model.coef_, lr_model.intercept_\n",
    "\n",
    "predict_training = lr_model.predict(inputs_train)\n",
    "# print(rmse(predict_training, targets_train))\n",
    "\n",
    "print(predict_training.shape, inputs_train.shape)"
   ]
  },
  {
   "cell_type": "code",
   "execution_count": 32,
   "id": "91ec6502-7fc4-4213-9724-b861ee17ba70",
   "metadata": {},
   "outputs": [
    {
     "name": "stdout",
     "output_type": "stream",
     "text": [
      "3.041628759513971\n"
     ]
    }
   ],
   "source": [
    "predict_test = lr_model.predict(inputs_test)\n",
    "print(rmse(predict_test, targets_test))"
   ]
  }
 ],
 "metadata": {
  "kernelspec": {
   "display_name": "Python 3 (ipykernel)",
   "language": "python",
   "name": "python3"
  },
  "language_info": {
   "codemirror_mode": {
    "name": "ipython",
    "version": 3
   },
   "file_extension": ".py",
   "mimetype": "text/x-python",
   "name": "python",
   "nbconvert_exporter": "python",
   "pygments_lexer": "ipython3",
   "version": "3.13.1"
  }
 },
 "nbformat": 4,
 "nbformat_minor": 5
}
